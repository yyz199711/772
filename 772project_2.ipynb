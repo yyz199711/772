{
 "cells": [
  {
   "cell_type": "code",
   "execution_count": 1,
   "metadata": {},
   "outputs": [],
   "source": [
    "import pandas as pd\n",
    "import numpy as np\n",
    "from scipy.optimize import minimize\n",
    "from scipy.optimize import fsolve\n",
    "from scipy.stats import norm\n",
    "from scipy.special import factorial\n",
    "import matplotlib.pyplot as plt\n",
    "import warnings\n",
    "warnings.simplefilter(\"ignore\")\n",
    "\n",
    "plt.style.use('seaborn')"
   ]
  },
  {
   "cell_type": "code",
   "execution_count": 2,
   "metadata": {},
   "outputs": [],
   "source": [
    "def BS_call(sigma, S, K, r, T):\n",
    "    d1 = (np.log(S / K) + (r + sigma ** 2 / 2) * T) / (sigma * T ** 0.5)\n",
    "    d2 = (np.log(S / K) + (r - sigma ** 2 / 2) * T) / (sigma * T ** 0.5)\n",
    "    c = S * norm.cdf(d1) - np.exp(-r * T) * K * norm.cdf(d2)\n",
    "    return c"
   ]
  },
  {
   "cell_type": "code",
   "execution_count": 3,
   "metadata": {},
   "outputs": [],
   "source": [
    "def call_delta(sigma, S, K, r, T):\n",
    "    d1 = (np.log(S / K) + (r + sigma ** 2 / 2) * T) / (sigma * T ** 0.5)\n",
    "    return norm.cdf(d1)"
   ]
  },
  {
   "cell_type": "code",
   "execution_count": 4,
   "metadata": {},
   "outputs": [],
   "source": [
    "def put_delta(sigma, S, K, r, T):\n",
    "    d1 = (np.log(S / K) + (r + sigma ** 2 / 2) * T) / (sigma * T ** 0.5)\n",
    "    return norm.cdf(d1) - 1"
   ]
  },
  {
   "cell_type": "code",
   "execution_count": 5,
   "metadata": {},
   "outputs": [],
   "source": [
    "def get_call_price(S0, r, T, lam, sigma, v, delta, K_list, max_n=1000, tol=0.0000000001):\n",
    "    n = 0\n",
    "    res = 0\n",
    "    for i in range(max_n):\n",
    "        k = np.exp(v + delta ** 2 / 2) - 1\n",
    "        lam2 = lam * (1 + k)\n",
    "        a = np.exp(-lam2 * T) * (lam2 * T) ** n / factorial(n, exact=True)\n",
    "        if a < tol:\n",
    "            return res\n",
    "            break\n",
    "        sigma_n = np.sqrt(sigma ** 2 + n / T * delta ** 2)\n",
    "        r_n = r - lam * k + (v + delta ** 2 / 2) * n / T\n",
    "        c = BS_call(sigma_n, S0, K_list, r_n, T)\n",
    "        res += a * c\n",
    "        n += 1\n",
    "    if a >= tol:\n",
    "        return res"
   ]
  },
  {
   "cell_type": "code",
   "execution_count": 6,
   "metadata": {},
   "outputs": [],
   "source": [
    "def get_implied_vol(sigma, *args):\n",
    "    S, K, r, T, c = args\n",
    "    return BS_call(sigma, S, K, r, T) - c"
   ]
  },
  {
   "cell_type": "code",
   "execution_count": 7,
   "metadata": {},
   "outputs": [],
   "source": [
    "# def obj2(x, *args):\n",
    "#     sigma, v, delta = x[0], x[1], x[2]\n",
    "#     S0, r, lam, T, K_list, spread, implied_vol = args\n",
    "    \n",
    "#     c = get_call_price(S0, r, T, lam, sigma, v, delta, K_list)\n",
    "#     implied_vol2 = fsolve(get_implied_vol, np.ones(len(K_list)), args=(S0, K_list, r, T, c))\n",
    "#     err = sum((implied_vol2 - implied_vol) ** 2 / spread)\n",
    "#     return err"
   ]
  },
  {
   "cell_type": "code",
   "execution_count": 8,
   "metadata": {},
   "outputs": [],
   "source": [
    "def get_RR_BF(implied_vol, S, K_list, r, T):\n",
    "    delta_c = call_delta(implied_vol, S, K_list, r, T)\n",
    "    delta_p = put_delta(implied_vol, S, K_list, r, T)\n",
    "    sigma_0 = implied_vol[np.where(abs(K_list - S) == np.min(abs(K_list - S)))[0][0]]\n",
    "    condition = (0.25 <= delta_c) & (delta_p <= 0.75-1)\n",
    "    if len(implied_vol[condition])==0:\n",
    "        RR = 20\n",
    "        BF = 20\n",
    "    else:\n",
    "        sigma_plus, sigma_minus = implied_vol[condition][-1], implied_vol[condition][0]\n",
    "    \n",
    "        RR = sigma_plus - sigma_minus\n",
    "        BF = (sigma_plus + sigma_minus) / 2 - sigma_0\n",
    "    return RR, BF, sigma_0"
   ]
  },
  {
   "cell_type": "code",
   "execution_count": 9,
   "metadata": {},
   "outputs": [],
   "source": [
    "def obj(x, *args):\n",
    "    sigma, v, delta = x[0], x[1], x[2]\n",
    "    S0, r, lam, T, K_list, RR, BF, sigma_0 = args\n",
    "    \n",
    "    c = get_call_price(S0, r, T, lam, sigma, v, delta, K_list)\n",
    "    implied_vol = fsolve(get_implied_vol, np.ones(len(K_list)), args=(S0, K_list, r, T, c))\n",
    "    \n",
    "    RR2, BF2, sigma_02 = get_RR_BF(implied_vol, S0, K_list, r, T)\n",
    "    \n",
    "    err = ((RR-RR2) **2 +  (BF-BF2) ** 2 / 4 + (sigma_0-sigma_02) ** 2)/3\n",
    "    return err"
   ]
  },
  {
   "cell_type": "code",
   "execution_count": 10,
   "metadata": {},
   "outputs": [],
   "source": [
    "def default_prob(V, r, T, lam, sigma, v, delta, D, max_n=10000, tol=0.0000001):\n",
    "    n = 0\n",
    "    res = 0\n",
    "    k = np.exp(v + delta ** 2 / 2) - 1\n",
    "    for i in range(max_n):\n",
    "        a = np.exp(-lam * T) * (lam * T) ** n / factorial(n, exact=True)\n",
    "        if a < tol:\n",
    "            return res\n",
    "            break\n",
    "        sigma_n = np.sqrt(sigma ** 2 + n / T * delta ** 2)\n",
    "        r_n = r - lam * k + (v + delta ** 2 / 2) * n / T\n",
    "        d_n = (np.log(V/D)+(r_n+sigma_n**2/2)*T)/(sigma_n*np.sqrt(T))\n",
    "        c = norm.cdf(-d_n+sigma_n*np.sqrt(T))\n",
    "        res += a * c\n",
    "        n += 1\n",
    "    if a >= tol:\n",
    "        return res"
   ]
  },
  {
   "cell_type": "code",
   "execution_count": 53,
   "metadata": {},
   "outputs": [],
   "source": [
    "def delta_V(V, r, T, lam, sigma, v, delta, D, max_n=10000, tol=0.0000001):\n",
    "    n = 0\n",
    "    res = 0\n",
    "    k = np.exp(v + delta ** 2 / 2) - 1\n",
    "    for i in range(max_n):\n",
    "            k = np.exp(v + delta ** 2 / 2) - 1\n",
    "            lam2 = lam * (1 + k)\n",
    "            a = np.exp(-lam2 * T) * (lam2 * T) ** n / factorial(n, exact=True)\n",
    "            if a < tol:\n",
    "                return res\n",
    "                break\n",
    "            sigma_n = np.sqrt(sigma ** 2 + n / T * delta ** 2)\n",
    "            r_n = r - lam * k + (v + delta ** 2 / 2) * n / T\n",
    "            d_n = (np.log(V/D)+(r_n+sigma_n**2/2)*T)/(sigma_n*np.sqrt(T))\n",
    "            c = norm.cdf(d_n)\n",
    "            res += a * c\n",
    "            n += 1\n",
    "    if a >= tol:\n",
    "        return res"
   ]
  },
  {
   "cell_type": "code",
   "execution_count": 12,
   "metadata": {},
   "outputs": [],
   "source": [
    "def solve_V_sigma(x, *args):\n",
    "    V, sigma_V, n = x[0], x[1], x[2]\n",
    "    paramlist, lam, S0, r, T, D = args\n",
    "    sigma, v, delta = paramlist[0], n * paramlist[1], n * paramlist[2]\n",
    "    S_mod = get_call_price(V, r, T, lam, sigma_V, v, delta, D)\n",
    "    d1 = (np.log(V / D) + (r + sigma_V ** 2 / 2) * T) / (sigma_V * T ** 0.5)\n",
    "    sigma_mod = delta_V(V, r, T, lam, sigma, v, delta, D) * V * sigma_V / S0\n",
    "    err = np.mean((sigma_mod/sigma-1)**2 + (S_mod/S0-1)**2)\n",
    "    return err"
   ]
  },
  {
   "cell_type": "code",
   "execution_count": 13,
   "metadata": {},
   "outputs": [],
   "source": [
    "def solve_parameters(x, *args):\n",
    "    sigma_VV, n = x[0], x[1]\n",
    "    paramlist, V, sigma_V, r, T, lam, D, S0 = args\n",
    "    nu_V, delta_V = n * paramlist[1], n * paramlist[2]\n",
    "    S_mod = get_call_price(V, r, T, lam, sigma_VV, nu_V, delta_V, D)\n",
    "    sigma_mod = fsolve(get_implied_vol, 0.05, args=(V, D, r, T, S_mod))\n",
    "    err = (sigma_mod/sigma_V-1)**2 + (S_mod/S0-1)**2\n",
    "    \n",
    "    return err"
   ]
  },
  {
   "cell_type": "code",
   "execution_count": 14,
   "metadata": {},
   "outputs": [],
   "source": [
    "def get_paramlist(lam, *args):\n",
    "    S0, r, T, K_list, RR, BF, sigma_0, D = args\n",
    "    args = (S0, r, lam, T, K_list, RR, BF, sigma_0)\n",
    "    x0 = np.array([0.1, -0.1, 0.1])\n",
    "    bnds = ((0, 1), (None, None), (0, None))\n",
    "    res = minimize(obj, x0, args=args, method='SLSQP', bounds=bnds, tol=0.0000001)\n",
    "    return res.x"
   ]
  },
  {
   "cell_type": "code",
   "execution_count": 15,
   "metadata": {},
   "outputs": [],
   "source": [
    "def get_V_sigma(lam, *args):\n",
    "    paramlist, S0, r, T, K_list, RR, BF, D = args\n",
    "    sigma = paramlist[0]\n",
    "    V_0 = S0 + D * np.exp(-r*T)\n",
    "    sigma_V_0 = sigma * S0 / V_0\n",
    "    x0 = np.array([V_0, sigma_V_0, 1])\n",
    "    args = (paramlist, lam, S0, r, T, D)\n",
    "    bnds = ((None, None),(0, 0.25), (0, 1))\n",
    "    res = minimize(solve_V_sigma, x0, args=args, method='SLSQP', bounds=bnds, tol=0.000001)\n",
    "    return res.x[0], res.x[1], res.x[2]"
   ]
  },
  {
   "cell_type": "code",
   "execution_count": 16,
   "metadata": {},
   "outputs": [],
   "source": [
    "def get_P_default(lam, *args):\n",
    "    paramlist, S0, r, T, K_list, RR, BF, D = args\n",
    "    V, sigma_V, n = get_V_sigma(lam, paramlist, S0, r, T, K_list, RR, BF, D)\n",
    "    v, delta = n * paramlist[1], n * paramlist[2]\n",
    "    \n",
    "    return default_prob(V, r, 1, lam, sigma_V, v, delta, D)"
   ]
  },
  {
   "cell_type": "code",
   "execution_count": 17,
   "metadata": {},
   "outputs": [],
   "source": [
    "# def obj2(lam, *args):\n",
    "#     paramlist,S0, r, T, K_list, RR, BF, sigma_0, D = args\n",
    "#     p = get_P_default(lam, paramlist, S0, r, T, K_list, RR, BF, sigma_0, D)\n",
    "#     return (p - 0.001) ** 2"
   ]
  },
  {
   "cell_type": "code",
   "execution_count": 18,
   "metadata": {
    "scrolled": false
   },
   "outputs": [],
   "source": [
    "# def get_lambda(lam, *args):\n",
    "#     paramlist, S0, r, T, K_list, RR, BF, sigma_0, D = args\n",
    "#     args = (paramlist, S0, r, T, K_list, RR, BF, sigma_0, D)\n",
    "#     res = minimize(obj2, lam, args=args, method='SLSQP', tol=0.000000001)\n",
    "#     return res.x"
   ]
  },
  {
   "cell_type": "code",
   "execution_count": 19,
   "metadata": {},
   "outputs": [],
   "source": [
    "def get_lam(lam, *args):\n",
    "    paramlist, S0, r, T, K_list, RR, BF, D, p_default = args\n",
    "    return (get_P_default(lam, paramlist, S0, r, T, K_list, RR, BF, D)/p_default - 1)**2"
   ]
  },
  {
   "cell_type": "code",
   "execution_count": 20,
   "metadata": {},
   "outputs": [
    {
     "name": "stdout",
     "output_type": "stream",
     "text": [
      "0 0.0010208228533435879\n",
      "1 0.005537842936278738\n",
      "2 0.009249736634771253\n",
      "3 0.013392046595295849\n",
      "4 0.013969716050891656\n",
      "5 0.014711101451584645\n",
      "6 0.010665531256011196\n",
      "7 0.011045216405538938\n",
      "8 0.01132993588315186\n",
      "9 0.011545607392787632\n",
      "10 0.011728471065907353\n",
      "11 0.011868192011179918\n",
      "12 0.011989110655010163\n",
      "13 0.012082052019016461\n",
      "14 0.01215523159244937\n",
      "15 0.01221254011625504\n",
      "16 0.012258662430205897\n",
      "17 0.012296196476442254\n",
      "18 0.012332445750207054\n",
      "19 0.012364685026017005\n",
      "20 0.012393658847208907\n",
      "21 0.01241595932291625\n",
      "22 0.01246692665817646\n",
      "23 0.012493653905340713\n",
      "24 0.012510896384632736\n",
      "25 0.012528188660748125\n",
      "26 0.01254051019925514\n",
      "27 0.012547448983410639\n",
      "28 0.012549741459486698\n",
      "29 0.012543370119761154\n",
      "30 0.01255681256382267\n",
      "31 0.012542423565022394\n",
      "32 0.01252294139577531\n",
      "33 0.012499414722870097\n",
      "34 0.012471755705863652\n",
      "35 0.012440855222677199\n",
      "36 0.012407483559361799\n",
      "37 0.012372207733305439\n",
      "38 0.012321814207791475\n",
      "39 0.012281383999982475\n",
      "40 0.012238385255209957\n",
      "41 0.012180661400496484\n",
      "42 0.012177049720394302\n",
      "43 0.012136027385227599\n",
      "44 0.012096447481258174\n",
      "45 0.01206737718730841\n",
      "46 0.012040389408227992\n",
      "47 0.011993641175622877\n",
      "48 0.01197713570584341\n",
      "49 0.011947712185310171\n",
      "50 0.011896068953350554\n",
      "51 0.0118908830567879\n",
      "52 0.011875997465374932\n",
      "53 0.011858446176618404\n",
      "54 0.011833588622532422\n",
      "55 0.011812560334197544\n",
      "56 0.011791097535239452\n",
      "57 0.011775390509467482\n",
      "58 0.011766495962554985\n",
      "59 0.011751886224737997\n",
      "60 0.011722528288436836\n",
      "61 0.011724529065818348\n",
      "62 0.011708342083678835\n",
      "63 0.06516627511713409\n",
      "64 0.06527667311420797\n",
      "65 0.06533924493704063\n",
      "66 0.06532699109224334\n",
      "67 0.06448548402226036\n",
      "68 0.06458609565800787\n",
      "69 0.0644993882406437\n",
      "70 0.06463984703110999\n",
      "71 0.06435714820771847\n",
      "72 0.06446280926674242\n",
      "73 0.06419244582112323\n",
      "74 0.06394336315963718\n",
      "75 0.0637821413701926\n",
      "76 0.06363471730819757\n",
      "77 0.06379420720710809\n",
      "78 0.06366990113630785\n",
      "79 0.0636427905334346\n",
      "80 0.0633651612084603\n",
      "81 0.06315216872979963\n",
      "82 0.06302102661875793\n",
      "83 0.06291134722877616\n",
      "84 0.06280302453530874\n",
      "85 0.06270424991730775\n",
      "86 0.06252575301314822\n",
      "87 0.06236947138467327\n",
      "88 0.0619143778676677\n",
      "89 0.06252330494965945\n",
      "90 0.06252344831377173\n",
      "91 0.061537308853682804\n",
      "92 0.061854814312714945\n",
      "93 0.061796747574297796\n",
      "94 0.06156673483663415\n",
      "95 0.06143929822771439\n",
      "96 0.0612273307328121\n",
      "97 0.061399653922051656\n",
      "98 0.06121937621140392\n",
      "99 0.061077030087641114\n"
     ]
    }
   ],
   "source": [
    "lam = 5 / 3\n",
    "S0 = 227.009995\n",
    "D = 227.009995/0.66\n",
    "K_list = np.array([227.009995 + i for i in range(-60, 61, 1)])\n",
    "r = 0.01\n",
    "T = 209/365\n",
    "sigma_0 = 0.223952\n",
    "sigma_plus = 0.207325\n",
    "sigma_minus = 0.254359\n",
    "K_plus = 255\n",
    "K_minus = 205\n",
    "RR = sigma_plus - sigma_minus\n",
    "BF = (sigma_plus + sigma_minus)/2 - sigma_0\n",
    "\n",
    "# lam = 1\n",
    "# tol = 1\n",
    "# max_inter = 100\n",
    "# while tol >= 0.000001 and max_inter > 0:\n",
    "#     paramlist = get_paramlist(lam, S0, r, T, K_list, RR, BF, sigma_0, D)\n",
    "#     lam_new = fsolve(get_lam, lam, args=(paramlist, S0, r, T, K_list, RR, BF, D, 0.0048))\n",
    "#     tol = abs(lam_new - lam)\n",
    "#     lam = lam_new\n",
    "#     max_inter -= 1\n",
    "#     paramlist_new = get_paramlist(lam, S0, r, T, K_list, RR, BF, sigma_0, D)\n",
    "#     print(get_P_default(lam, paramlist, S0, r, T, K_list, RR, BF, D), get_P_default(lam, paramlist_new, 227.009995, r, T, K_list, RR, BF, D))\n",
    "\n",
    "lam_chose = np.linspace(0.1,0.2,100)\n",
    "p_default_1 = np.zeros(100)\n",
    "for i in range(100):\n",
    "    paramlist = get_paramlist(lam_chose[i], S0, r, T, K_list, RR, BF, sigma_0, D)\n",
    "    V_i, sigma_V_i, n_i = get_V_sigma(lam_chose[i], paramlist, S0, r, T, K_list, RR, BF, D)\n",
    "    p_default_1[i] = abs(default_prob(V_i, r, 1, lam_chose[i], sigma_V_i, n_i*paramlist[1], n_i*paramlist[2], D)-0.0048)\n",
    "    print(i, default_prob(V_i, r, 1, lam_chose[i], sigma_V_i, n_i*paramlist[1], n_i*paramlist[2], D))\n",
    "index = np.where(p_default_1 == np.min(p_default_1))[0][0]\n",
    "paramlist = get_paramlist(lam_chose[index], S0, r, T, K_list, RR, BF, sigma_0, D)\n",
    "V, sigma_V, n = get_V_sigma(lam_chose[index], paramlist, 227.009995, r, T, K_list, RR, BF, D)\n"
   ]
  },
  {
   "cell_type": "code",
   "execution_count": 21,
   "metadata": {},
   "outputs": [],
   "source": [
    "S0 = 227.009995\n",
    "D = 227.009995/0.66\n",
    "K_list = np.array([227.009995 + i for i in range(-60, 61, 1)])\n",
    "r = 0.01\n",
    "T = 209/365\n",
    "sigma_0 = 0.223952\n",
    "sigma_plus = 0.207325\n",
    "sigma_minus = 0.254359\n",
    "K_plus = 255\n",
    "K_minus = 205\n",
    "RR = sigma_plus - sigma_minus\n",
    "BF = (sigma_plus + sigma_minus)/2 - sigma_0\n",
    "\n",
    "lam_original = 5/3\n",
    "paramlist_original = np.array([0.11916426, -0.11249276,  0.11583683])\n",
    "V, sigma_V, n = get_V_sigma(lam_original, paramlist_original, 227.009995, r, T, K_list, RR, BF, D)"
   ]
  },
  {
   "cell_type": "code",
   "execution_count": 22,
   "metadata": {},
   "outputs": [
    {
     "data": {
      "text/plain": [
       "(569.0006677392719, 0.0479424778674135, 0.9999989490593603)"
      ]
     },
     "execution_count": 22,
     "metadata": {},
     "output_type": "execute_result"
    }
   ],
   "source": [
    "V, sigma_V, n"
   ]
  },
  {
   "cell_type": "code",
   "execution_count": 23,
   "metadata": {},
   "outputs": [
    {
     "data": {
      "text/plain": [
       "0.028717677771640263"
      ]
     },
     "execution_count": 23,
     "metadata": {},
     "output_type": "execute_result"
    }
   ],
   "source": [
    "default_prob(V, r, 1, lam_original, sigma_V, n*paramlist_original[1], n*paramlist_original[2], D)"
   ]
  },
  {
   "cell_type": "code",
   "execution_count": 24,
   "metadata": {},
   "outputs": [],
   "source": [
    "lam = lam_chose[index]"
   ]
  },
  {
   "cell_type": "code",
   "execution_count": 25,
   "metadata": {},
   "outputs": [
    {
     "data": {
      "text/plain": [
       "0.10101010101010102"
      ]
     },
     "execution_count": 25,
     "metadata": {},
     "output_type": "execute_result"
    }
   ],
   "source": [
    "lam"
   ]
  },
  {
   "cell_type": "code",
   "execution_count": 26,
   "metadata": {},
   "outputs": [],
   "source": [
    "paramlist=get_paramlist(lam, S0, r, T, K_list, RR, BF, sigma_0, D)"
   ]
  },
  {
   "cell_type": "code",
   "execution_count": 27,
   "metadata": {},
   "outputs": [
    {
     "data": {
      "text/plain": [
       "array([ 0.17777603, -0.79625213,  0.58006138])"
      ]
     },
     "execution_count": 27,
     "metadata": {},
     "output_type": "execute_result"
    }
   ],
   "source": [
    "paramlist"
   ]
  },
  {
   "cell_type": "code",
   "execution_count": 28,
   "metadata": {},
   "outputs": [],
   "source": [
    "V, sigma_V, n = get_V_sigma(lam, paramlist, 227.009995, r, T, K_list, RR, BF, D)"
   ]
  },
  {
   "cell_type": "code",
   "execution_count": 29,
   "metadata": {},
   "outputs": [
    {
     "data": {
      "text/plain": [
       "(0.07112519548244985, 0.2793070479457188)"
      ]
     },
     "execution_count": 29,
     "metadata": {},
     "output_type": "execute_result"
    }
   ],
   "source": [
    "sigma_V, n"
   ]
  },
  {
   "cell_type": "code",
   "execution_count": 30,
   "metadata": {},
   "outputs": [
    {
     "data": {
      "text/plain": [
       "array([-0.22239883,  0.16201523])"
      ]
     },
     "execution_count": 30,
     "metadata": {},
     "output_type": "execute_result"
    }
   ],
   "source": [
    "0.2793070479457188* np.array([-0.79625213,  0.58006138])"
   ]
  },
  {
   "cell_type": "code",
   "execution_count": 31,
   "metadata": {},
   "outputs": [
    {
     "data": {
      "text/plain": [
       "568.906420984315"
      ]
     },
     "execution_count": 31,
     "metadata": {},
     "output_type": "execute_result"
    }
   ],
   "source": [
    "V"
   ]
  },
  {
   "cell_type": "code",
   "execution_count": 32,
   "metadata": {},
   "outputs": [
    {
     "data": {
      "text/plain": [
       "0.005537842936278738"
      ]
     },
     "execution_count": 32,
     "metadata": {},
     "output_type": "execute_result"
    }
   ],
   "source": [
    "default_prob(V, r, 1, lam, sigma_V, n*paramlist[1], n*paramlist[2], D)"
   ]
  },
  {
   "cell_type": "code",
   "execution_count": 33,
   "metadata": {},
   "outputs": [
    {
     "data": {
      "text/plain": [
       "226.99733436439348"
      ]
     },
     "execution_count": 33,
     "metadata": {},
     "output_type": "execute_result"
    }
   ],
   "source": [
    "get_call_price(V, r, T, lam, sigma_V, n*paramlist[1], n*paramlist[2], D)"
   ]
  },
  {
   "cell_type": "code",
   "execution_count": 34,
   "metadata": {},
   "outputs": [
    {
     "data": {
      "text/plain": [
       "Text(0, 0.5, 'implied_vol')"
      ]
     },
     "execution_count": 34,
     "metadata": {},
     "output_type": "execute_result"
    },
    {
     "data": {
      "image/png": "[encoded data removed]",
      "text/plain": [
       "<Figure size 720x576 with 1 Axes>"
      ]
     },
     "metadata": {},
     "output_type": "display_data"
    }
   ],
   "source": [
    "sigma, v, delta = 0.17777603, -0.79625213,  0.58006138\n",
    "c1 = get_call_price(S0, r, T, lam, sigma, v, delta, K_list)\n",
    "implied_vol1 = fsolve(get_implied_vol, np.ones(len(K_list)), args=(S0, K_list, r, T, c1))\n",
    "K_list2 = np.array([165 + i*5 for i in range(0, 25)])\n",
    "implied_vol = np.array([0.322205925470394, 0.315172864592547, 0.295983260468313,\n",
    "       0.29456929414918104, 0.28385952743335, 0.277702188077411,\n",
    "       0.269420801690042, 0.26276526736628003, 0.254359095349089,\n",
    "       0.24983323379033098, 0.241837325920689, 0.238566784782187,\n",
    "       0.233564289395348, 0.22395179822024902, 0.22287047898573,\n",
    "       0.218873246430956, 0.21753245481342098, 0.211653563144179,\n",
    "       0.207325144289639, 0.20609309346663002, 0.20425061661487,\n",
    "       0.201694827304974, 0.20300745434908, 0.202914053761969,\n",
    "       0.203084014482271])\n",
    "\n",
    "plt.figure(figsize=(10,8))\n",
    "plt.plot(K_list2,implied_vol)\n",
    "plt.plot(K_list,implied_vol1)\n",
    "#plt.plot(K_list2,implied_vol2)\n",
    "plt.legend(['market', '3point'])\n",
    "plt.xlabel(\"K\")\n",
    "plt.ylabel(\"implied_vol\")"
   ]
  },
  {
   "cell_type": "markdown",
   "metadata": {},
   "source": [
    "# Backtest"
   ]
  },
  {
   "cell_type": "code",
   "execution_count": 74,
   "metadata": {},
   "outputs": [],
   "source": [
    "bkdata = pd.read_excel(\"Desktop/772backtestdata.xlsx\")\n",
    "bkdata = bkdata.iloc[:,:6]\n",
    "bkdata.columns = ['Strikes', 'Tickers', 'Bids', 'Asks', 'Last', 'Implied_Vol']\n",
    "\n",
    "bkdata['Price'] = (bkdata['Bids'] + bkdata['Asks'])/2\n",
    "\n",
    "bkdata = bkdata.dropna(axis = 'rows')\n",
    "\n",
    "stock_default = pd.read_excel('Desktop/BRKBstockprice with default prob.xlsx')\n",
    "\n",
    "\n",
    "S = np.array(stock_default['Last Price.1'][2:16])\n",
    "\n",
    "\n",
    "def all_data(bkdata, S):\n",
    "    T_total = []\n",
    "    sigma_0 = []\n",
    "    K_plus = []\n",
    "    K_minus = []\n",
    "    RR = []\n",
    "    BF = []\n",
    "    for i in range(len(S)):\n",
    "        S_input = S[i]\n",
    "        T = (i*7+217)/365 \n",
    "        T_total += [T]\n",
    "        bkdata_i = bkdata.iloc[int(i*25):int((i+1)*25)]\n",
    "        get_d = (np.log(S_input/np.array(bkdata_i['Strikes'],dtype=float))+(r + (bkdata_i['Implied_Vol']/100) ** 2/2) * T)/((bkdata_i['Implied_Vol']/100) * np.sqrt(T))\n",
    "        Delta = norm.cdf(np.array(get_d, dtype=float))\n",
    "        close_plus = min(abs(Delta - 0.25))\n",
    "        close_minus = min(abs(Delta - 0.75))\n",
    "        close_0 = min(abs(Delta - 0.5))\n",
    "        index_plus = np.where(abs(Delta - 0.25) == close_plus)[0][0]\n",
    "        index_minus = np.where(abs(Delta - 0.75) == close_minus)[0][0]\n",
    "        index_0 = np.where(abs(Delta - 0.5) == close_0)[0][0]\n",
    "        K_plus += [bkdata_i['Strikes'].iloc[index_plus]]\n",
    "        K_minus += [bkdata_i['Strikes'].iloc[index_minus]]\n",
    "        sigma_plus = bkdata_i['Implied_Vol'].iloc[index_plus]\n",
    "        sigma_minus = bkdata_i['Implied_Vol'].iloc[index_minus]\n",
    "        sigma_0_i = bkdata_i['Implied_Vol'].iloc[index_0]\n",
    "        sigma_0 += [sigma_0_i]\n",
    "        RR += [sigma_plus - sigma_minus]\n",
    "        BF += [(sigma_plus + sigma_minus)/2 - sigma_0_i]\n",
    "    \n",
    "    return T_total, np.array(sigma_0)/100, K_plus, K_minus, np.array(RR)/100, np.array(BF)/100\n",
    "\n",
    "r = 0.01\n",
    "T_total, sigma_0_total, K_plus_total, K_minus_total, RR_total, BF_total = all_data(bkdata, S)\n",
    "\n",
    "p_default_total = np.array([0.005, 0.0052, 0.006, 0.005, 0.0054, 0.005, 0.006, 0.0066, 0.0052, 0.0056, 0.0058, 0.0054, 0.0054, 0.0056])"
   ]
  },
  {
   "cell_type": "code",
   "execution_count": 59,
   "metadata": {},
   "outputs": [],
   "source": [
    "V = []\n",
    "paramlist_total = []\n",
    "n = []\n",
    "sigma_V = []\n",
    "lam_total = []\n",
    "S_mod = np.zeros(14)\n",
    "p_default_mod = np.zeros(14)\n",
    "\n",
    "for i in range(14):  \n",
    "    lam = 5 / 3\n",
    "    S0 = float(S[i])\n",
    "    D = S[i]/0.66\n",
    "    K_list = np.array([S[i] + m for m in range(-60, 61, 1)])\n",
    "    r = 0.01\n",
    "    T = float(T_total[i])\n",
    "    sigma_0 = float(sigma_0_total[i])\n",
    "    K_plus = float(K_plus_total[i])\n",
    "    K_minus = float(K_minus_total[i])\n",
    "    RR = float(RR_total[i])\n",
    "    BF = float(BF_total[i])\n",
    "    p_default = p_default_total[i]\n",
    " \n",
    "    lam_chose = np.linspace(0.095, 0.105, 20)\n",
    "    p_default_1 = np.zeros(20)\n",
    "    for j in range(20):\n",
    "        paramlist_j = get_paramlist(lam_chose[j], S0, r, T, K_list, RR, BF, sigma_0, D)\n",
    "        V_j, sigma_V_j, n_j = get_V_sigma(lam_chose[j], paramlist_j, S0, r, T, K_list, RR, BF, D)\n",
    "        p_default_1[j] = abs(default_prob(V_j, r, 1, lam_chose[j], sigma_V_j, n_j*paramlist_j[1], n_j*paramlist_j[2], D)-p_default)\n",
    "        #print(j, default_prob(V_j, r, 1, lam_chose[j], sigma_V_j, n_j*paramlist_j[1], n_j*paramlist_j[2], D))\n",
    "    index = np.where(p_default_1 == np.min(p_default_1))[0][0]\n",
    "    \n",
    "    paramlist_i = get_paramlist(lam_chose[index], S0, r, T, K_list, RR, BF, sigma_0, D)\n",
    "    V_i, sigma_V_i, n_i = get_V_sigma(lam_chose[index], paramlist_i, S[i], r, T, K_list, RR, BF, D)\n",
    "    S_mod[i] = get_call_price(V_i, 0.01, T, lam_chose[index], sigma_V_i, paramlist_i[1]*n_i, paramlist_i[2]*n_i, D)\n",
    "    p_default_mod[i] = get_P_default(lam_chose[index], paramlist_i, S[i], r, T, K_list, RR, BF, D)\n",
    "    lam_total += [lam_chose[index]]\n",
    "    V += [V_i]\n",
    "    sigma_V += [sigma_V_i]\n",
    "    n += [n_i]\n",
    "    paramlist_total += [paramlist_i]"
   ]
  },
  {
   "cell_type": "code",
   "execution_count": 60,
   "metadata": {},
   "outputs": [],
   "source": [
    "lam_total = np.array([lam_total[i] for i in range(14)])\n",
    "lam_total = np.concatenate((np.array([0.10101010101010102]),lam_total), axis = None)\n",
    "V = np.array([568.906420984315]+V)\n",
    "sigma_S = np.array([0.17777603] + [paramlist_total[i][0] for i in range(len(S))])\n",
    "nu_S = np.array([-0.79625213] + [paramlist_total[i][1] for i in range(len(S))])\n",
    "delta_S = np.array([0.58006138] + [paramlist_total[i][2] for i in range(len(S))])\n",
    "factor = np.array([0.2793070479457188] + n)\n",
    "sigma_V = np.array([0.07112519548244985] + sigma_V)\n",
    "S = np.append(227.009995, S)\n",
    "S_mod = np.append(226.99733436439348, S_mod)\n",
    "p_default_mod = np.append(0.005537842936278738, p_default_mod)\n",
    "p_default_total = np.append(0.0048, p_default_total)\n",
    "nu_V = factor * nu_S\n",
    "Delta_V = factor * delta_S"
   ]
  },
  {
   "cell_type": "code",
   "execution_count": 61,
   "metadata": {},
   "outputs": [],
   "source": [
    "date = ['2020-11-20', '2020-11-13', '2020-11-06', '2020-10-30', '2020-10-23', '2020-10-16', '2020-10-09', '2020-10-02', \n",
    "       '2020-09-25', '2020-09-18', '2020-09-11', '2020-09-04', '2020-08-28', '2020-08-21', '2020-08-14']"
   ]
  },
  {
   "cell_type": "code",
   "execution_count": 62,
   "metadata": {},
   "outputs": [],
   "source": [
    "Back_Test_Parameters = pd.DataFrame(lam_total, index = date, columns = ['intensity'])\n",
    "Back_Test_Parameters['stock price'] = S\n",
    "Back_Test_Parameters['estimate_stock_price'] = S_mod\n",
    "Back_Test_Parameters['asset value'] = V\n",
    "Back_Test_Parameters['Stock Sigma'] = sigma_S\n",
    "Back_Test_Parameters['Stock nu'] = nu_S\n",
    "Back_Test_Parameters['Stock delta'] = delta_S\n",
    "Back_Test_Parameters['Asset nu'] = nu_V\n",
    "Back_Test_Parameters['Asset delta'] = Delta_V\n",
    "Back_Test_Parameters['Default_prob_market'] = p_default_total\n",
    "Back_Test_Parameters['Default_prob_estimate'] = p_default_mod\n",
    "Back_Test_Parameters['Asste Sigma'] = sigma_V\n",
    "Back_Test_Parameters['Factor'] = np.append(0.2793070479457188, n)"
   ]
  },
  {
   "cell_type": "code",
   "execution_count": 68,
   "metadata": {},
   "outputs": [],
   "source": [
    "def Delta_S(S, r, T, lam, sigma, v, delta, K, max_n=10000, tol=0.0000001):\n",
    "    n = 0\n",
    "    res = 0\n",
    "    k = np.exp(v + delta ** 2 / 2) - 1\n",
    "    for i in range(max_n):\n",
    "            k = np.exp(v + delta ** 2 / 2) - 1\n",
    "            lam2 = lam * (1 + k)\n",
    "            a = np.exp(-lam2 * T) * (lam2 * T) ** n / factorial(n, exact=True)\n",
    "            if a < tol:\n",
    "                return res\n",
    "                break\n",
    "            sigma_n = np.sqrt(sigma ** 2 + n / T * delta ** 2)\n",
    "            r_n = r - lam * k + (v + delta ** 2 / 2) * n / T\n",
    "            d_n = (np.log(S/K)+(r_n+sigma_n**2/2)*T)/(sigma_n*np.sqrt(T))\n",
    "            c = norm.cdf(d_n)\n",
    "            res += a * c\n",
    "            n += 1\n",
    "    if a >= tol:\n",
    "        return res"
   ]
  },
  {
   "cell_type": "code",
   "execution_count": 69,
   "metadata": {},
   "outputs": [],
   "source": [
    "ATM_strike = [210, 210, 220, 220, 220, 220, 210, 210, 210, 210, 210, 200, 210, 230]\n",
    "C_price_start = [17.5, 14.95, 16.3, 17.48, 16.75, 16.6, 17.05, 19.39, 20.1, 17.25, 17.5, 17.725, 15, 14.5]\n",
    "C_price_end = [27.25, 27.25, 20.65, 20.65, 20.65, 20.65, 27.25, 27.25, 27.25, 27.25, 27.25, 34.7, 27.25, 14.65]\n",
    "Delta_hedge_jump_diffusion = np.zeros(14)\n",
    "for i in range(14):\n",
    "    time = (14-i)*7/365\n",
    "    S_start = S[-i-1]\n",
    "    S_end = S[0]\n",
    "    sigma_S_start = sigma_S[-i-1]\n",
    "    nu_S_start = nu_S[-i-1]\n",
    "    delta_S_start = delta_S[-i-1]\n",
    "    TTM = T_total[-i-1]\n",
    "    lam_start = lam_total[-i-1]\n",
    "    K = ATM_strike[i]\n",
    "    call_start = C_price_start[i]\n",
    "    call_end = C_price_end[i]\n",
    "    Delta = Delta_S(S_start,0.01, TTM, lam_start, sigma_S_start, nu_S_start, delta_S_start, K)\n",
    "    P_and_L = (Delta*(S_end - S_start) - (call_end - call_start))\n",
    "    Delta_hedge_jump_diffusion[i] = P_and_L"
   ]
  },
  {
   "cell_type": "code",
   "execution_count": 70,
   "metadata": {},
   "outputs": [
    {
     "data": {
      "text/plain": [
       "array([ 0.80846114, -0.56773019,  0.80591522,  1.95364227,  1.63411178,\n",
       "        1.33643695,  0.3379161 ,  2.60593839,  0.48283733, -0.34485138,\n",
       "       -0.49082436, -1.0772011 , -1.1552863 , -0.38830092])"
      ]
     },
     "execution_count": 70,
     "metadata": {},
     "output_type": "execute_result"
    }
   ],
   "source": [
    "Delta_hedge_jump_diffusion"
   ]
  },
  {
   "cell_type": "code",
   "execution_count": 71,
   "metadata": {},
   "outputs": [],
   "source": [
    "Back_Test_Parameters['P&L'] = np.append(0, Delta_hedge_jump_diffusion[::-1])"
   ]
  },
  {
   "cell_type": "code",
   "execution_count": 72,
   "metadata": {},
   "outputs": [],
   "source": [
    "Back_Test_Parameters.to_csv('Desktop/Back_Test_Parameters.csv')"
   ]
  }
 ],
 "metadata": {
  "kernelspec": {
   "display_name": "Python 3",
   "language": "python",
   "name": "python3"
  },
  "language_info": {
   "codemirror_mode": {
    "name": "ipython",
    "version": 3
   },
   "file_extension": ".py",
   "mimetype": "text/x-python",
   "name": "python",
   "nbconvert_exporter": "python",
   "pygments_lexer": "ipython3",
   "version": "3.7.5"
  }
 },
 "nbformat": 4,
 "nbformat_minor": 2
}
