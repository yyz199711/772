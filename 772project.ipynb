{
 "cells": [
  {
   "cell_type": "code",
   "execution_count": 1,
   "metadata": {},
   "outputs": [],
   "source": [
    "import pandas as pd\n",
    "import numpy as np\n",
    "from scipy.optimize import minimize\n",
    "from scipy.optimize import fsolve\n",
    "from scipy.stats import norm\n",
    "from scipy.special import factorial\n",
    "import yfinance as yf\n",
    "import pandas_datareader.data as web\n",
    "import matplotlib as mpl\n",
    "import matplotlib.pyplot as plt\n",
    "from scipy.stats import norm\n",
    "import math\n",
    "import warnings\n",
    "warnings.simplefilter(\"ignore\")"
   ]
  },
  {
   "cell_type": "code",
   "execution_count": 2,
   "metadata": {},
   "outputs": [],
   "source": [
    "def BS_call(sigma, S, K, r, T):\n",
    "    d1 = (np.log(S / K) + (r + sigma ** 2 / 2) * T) / (sigma * T ** 0.5)\n",
    "    d2 = (np.log(S / K) + (r - sigma ** 2 / 2) * T) / (sigma * T ** 0.5)\n",
    "    c = S * norm.cdf(d1) - np.exp(-r * T) * K * norm.cdf(d2)\n",
    "    return c"
   ]
  },
  {
   "cell_type": "code",
   "execution_count": 3,
   "metadata": {},
   "outputs": [],
   "source": [
    "def call_delta(sigma, S, K, r, T):\n",
    "    d1 = (np.log(S / K) + (r + sigma ** 2 / 2) * T) / (sigma * T ** 0.5)\n",
    "    return norm.cdf(d1)"
   ]
  },
  {
   "cell_type": "code",
   "execution_count": 4,
   "metadata": {},
   "outputs": [],
   "source": [
    "def put_delta(sigma, S, K, r, T):\n",
    "    d1 = (np.log(S / K) + (r + sigma ** 2 / 2) * T) / (sigma * T ** 0.5)\n",
    "    return norm.cdf(d1) - 1"
   ]
  },
  {
   "cell_type": "code",
   "execution_count": 5,
   "metadata": {},
   "outputs": [],
   "source": [
    "# def get_S(S0, r, lam, sigma, v, delta, T, N=1000):\n",
    "#     n = np.random.poisson(lam, N)\n",
    "#     w = np.random.normal(0, T, N)\n",
    "#     Y = np.array([sum(np.random.normal(v, delta ** 2, i)) for i in n])\n",
    "#     k = np.exp(v + delta ** 2 / 2) - 1\n",
    "#     S = S0 * np.exp((r - lam * k - sigma ** 2 / 2) * T + sigma * w + Y)\n",
    "#     return S"
   ]
  },
  {
   "cell_type": "code",
   "execution_count": 6,
   "metadata": {},
   "outputs": [],
   "source": [
    "# def get_call_price(r, T, S, K):\n",
    "#     return np.mean(np.exp(-r * T) * (S - K).clip(min=0))"
   ]
  },
  {
   "cell_type": "code",
   "execution_count": 7,
   "metadata": {},
   "outputs": [],
   "source": [
    "def get_call_price(S0, r, T, lam, sigma, v, delta, K_list, max_n=1000, tol=0.0000000001):\n",
    "    n = 0\n",
    "    res = 0\n",
    "    for i in range(max_n):\n",
    "        k = np.exp(v + delta ** 2 / 2) - 1\n",
    "        lam2 = lam * (1 + k)\n",
    "        a = np.exp(-lam2 * T) * (lam2 * T) ** n / factorial(n, exact=True)\n",
    "        if a < tol:\n",
    "            return res\n",
    "            break\n",
    "        sigma_n = np.sqrt(sigma ** 2 + n / T * delta ** 2)\n",
    "        r_n = r - lam * k + (v + delta ** 2 / 2) * n / T\n",
    "        c = BS_call(sigma_n, S0, K_list, r_n, T)\n",
    "        res += a * c\n",
    "        n += 1\n",
    "    if a >= tol:\n",
    "        return res"
   ]
  },
  {
   "cell_type": "code",
   "execution_count": 8,
   "metadata": {},
   "outputs": [],
   "source": [
    "def get_implied_vol(sigma, *args):\n",
    "    S, K, r, T, c = args\n",
    "    return BS_call(sigma, S, K, r, T) - c"
   ]
  },
  {
   "cell_type": "code",
   "execution_count": 9,
   "metadata": {},
   "outputs": [],
   "source": [
    "# def obj(x, *args):\n",
    "#     sigma, v, delta = x[0], x[1], x[2]\n",
    "#     S0, r, lam, T, K_list, spread, implied_vol = args\n",
    "    \n",
    "#     S = get_S(S0, r, lam, sigma, v, delta, T)\n",
    "#     c = np.array([get_call_price(r, T, S, K) for K in K_list])\n",
    "#     implied_vol2 = fsolve(get_implied_vol, np.ones(len(K_list)), args=(np.mean(S), K_list, r, T, c))\n",
    "#     err = sum((implied_vol2 - implied_vol) ** 2 / spread)\n",
    "#     return err"
   ]
  },
  {
   "cell_type": "code",
   "execution_count": 10,
   "metadata": {},
   "outputs": [],
   "source": [
    "def obj2(x, *args):\n",
    "    sigma, v, delta = x[0], x[1], x[2]\n",
    "    S0, r, lam, T, K_list, spread, implied_vol = args\n",
    "    \n",
    "    c = get_call_price(S0, r, T, lam, sigma, v, delta, K_list)\n",
    "    implied_vol2 = fsolve(get_implied_vol, np.ones(len(K_list)), args=(S0, K_list, r, T, c))\n",
    "    err = sum((implied_vol2 - implied_vol) ** 2 / spread)\n",
    "    return err"
   ]
  },
  {
   "cell_type": "code",
   "execution_count": 11,
   "metadata": {},
   "outputs": [],
   "source": [
    "def get_RR_BF(implied_vol, S, K_list, r, T):\n",
    "    delta_c = call_delta(implied_vol, S, K_list, r, T)\n",
    "    delta_p = put_delta(implied_vol, S, K_list, r, T)\n",
    "    sigma_0 = implied_vol[K_list==S]\n",
    "    condition = (0.265599 <= delta_c) & (delta_p <= 0.744038-1)\n",
    "    if len(implied_vol[condition])==0:\n",
    "        RR = 20\n",
    "        BF = 20\n",
    "    else:\n",
    "        sigma_plus, sigma_minus = implied_vol[condition][-1], implied_vol[condition][0]\n",
    "    \n",
    "        RR = sigma_plus - sigma_minus\n",
    "        BF = (sigma_plus + sigma_minus) / 2 - sigma_0\n",
    "    return RR, BF, sigma_0"
   ]
  },
  {
   "cell_type": "code",
   "execution_count": 12,
   "metadata": {},
   "outputs": [],
   "source": [
    "def obj(x, *args):\n",
    "    sigma, v, delta = x[0], x[1], x[2]\n",
    "    S0, r, lam, T, K_list, RR, BF, sigma_0 = args\n",
    "    \n",
    "    c = get_call_price(S0, r, T, lam, sigma, v, delta, K_list)\n",
    "    implied_vol = fsolve(get_implied_vol, np.ones(len(K_list)), args=(S0, K_list, r, T, c))\n",
    "    \n",
    "    RR2, BF2, sigma_02 = get_RR_BF(implied_vol, S0, K_list, r, T)\n",
    "    \n",
    "    err = np.mean((RR - RR2) ** 2 +  (BF - BF2) ** 2 / 4 + (sigma_0 - sigma_02) ** 2)\n",
    "    return err"
   ]
  },
  {
   "cell_type": "markdown",
   "metadata": {},
   "source": [
    "The following codes are for the stock price/option data"
   ]
  },
  {
   "cell_type": "code",
   "execution_count": 13,
   "metadata": {},
   "outputs": [],
   "source": [
    "symbol = 'BRK-B'\n",
    "source = 'yahoo'\n",
    "start_date = '2017-11-21'\n",
    "end_date = '2020-11-21'\n",
    "BRKB = web.DataReader(symbol, source, start_date, end_date)"
   ]
  },
  {
   "cell_type": "code",
   "execution_count": 14,
   "metadata": {
    "scrolled": true
   },
   "outputs": [
    {
     "data": {
      "text/html": [
       "<div>\n",
       "<style scoped>\n",
       "    .dataframe tbody tr th:only-of-type {\n",
       "        vertical-align: middle;\n",
       "    }\n",
       "\n",
       "    .dataframe tbody tr th {\n",
       "        vertical-align: top;\n",
       "    }\n",
       "\n",
       "    .dataframe thead th {\n",
       "        text-align: right;\n",
       "    }\n",
       "</style>\n",
       "<table border=\"1\" class=\"dataframe\">\n",
       "  <thead>\n",
       "    <tr style=\"text-align: right;\">\n",
       "      <th></th>\n",
       "      <th>High</th>\n",
       "      <th>Low</th>\n",
       "      <th>Open</th>\n",
       "      <th>Close</th>\n",
       "      <th>Volume</th>\n",
       "      <th>Adj Close</th>\n",
       "    </tr>\n",
       "    <tr>\n",
       "      <th>Date</th>\n",
       "      <th></th>\n",
       "      <th></th>\n",
       "      <th></th>\n",
       "      <th></th>\n",
       "      <th></th>\n",
       "      <th></th>\n",
       "    </tr>\n",
       "  </thead>\n",
       "  <tbody>\n",
       "    <tr>\n",
       "      <th>2017-11-21</th>\n",
       "      <td>183.500000</td>\n",
       "      <td>181.509995</td>\n",
       "      <td>181.779999</td>\n",
       "      <td>183.179993</td>\n",
       "      <td>3047000</td>\n",
       "      <td>183.179993</td>\n",
       "    </tr>\n",
       "    <tr>\n",
       "      <th>2017-11-22</th>\n",
       "      <td>183.779999</td>\n",
       "      <td>181.940002</td>\n",
       "      <td>183.779999</td>\n",
       "      <td>182.559998</td>\n",
       "      <td>3017000</td>\n",
       "      <td>182.559998</td>\n",
       "    </tr>\n",
       "    <tr>\n",
       "      <th>2017-11-24</th>\n",
       "      <td>182.979996</td>\n",
       "      <td>182.250000</td>\n",
       "      <td>182.660004</td>\n",
       "      <td>182.360001</td>\n",
       "      <td>1038600</td>\n",
       "      <td>182.360001</td>\n",
       "    </tr>\n",
       "    <tr>\n",
       "      <th>2017-11-27</th>\n",
       "      <td>183.869995</td>\n",
       "      <td>182.410004</td>\n",
       "      <td>182.740005</td>\n",
       "      <td>183.490005</td>\n",
       "      <td>2985200</td>\n",
       "      <td>183.490005</td>\n",
       "    </tr>\n",
       "    <tr>\n",
       "      <th>2017-11-28</th>\n",
       "      <td>187.839996</td>\n",
       "      <td>184.020004</td>\n",
       "      <td>184.100006</td>\n",
       "      <td>187.539993</td>\n",
       "      <td>3721000</td>\n",
       "      <td>187.539993</td>\n",
       "    </tr>\n",
       "    <tr>\n",
       "      <th>...</th>\n",
       "      <td>...</td>\n",
       "      <td>...</td>\n",
       "      <td>...</td>\n",
       "      <td>...</td>\n",
       "      <td>...</td>\n",
       "      <td>...</td>\n",
       "    </tr>\n",
       "    <tr>\n",
       "      <th>2020-11-16</th>\n",
       "      <td>233.460007</td>\n",
       "      <td>229.860001</td>\n",
       "      <td>230.580002</td>\n",
       "      <td>233.100006</td>\n",
       "      <td>5766600</td>\n",
       "      <td>233.100006</td>\n",
       "    </tr>\n",
       "    <tr>\n",
       "      <th>2020-11-17</th>\n",
       "      <td>234.970001</td>\n",
       "      <td>230.009995</td>\n",
       "      <td>231.929993</td>\n",
       "      <td>233.160004</td>\n",
       "      <td>5038400</td>\n",
       "      <td>233.160004</td>\n",
       "    </tr>\n",
       "    <tr>\n",
       "      <th>2020-11-18</th>\n",
       "      <td>234.479996</td>\n",
       "      <td>230.000000</td>\n",
       "      <td>233.570007</td>\n",
       "      <td>230.070007</td>\n",
       "      <td>4740600</td>\n",
       "      <td>230.070007</td>\n",
       "    </tr>\n",
       "    <tr>\n",
       "      <th>2020-11-19</th>\n",
       "      <td>229.970001</td>\n",
       "      <td>227.619995</td>\n",
       "      <td>229.669998</td>\n",
       "      <td>229.529999</td>\n",
       "      <td>4621800</td>\n",
       "      <td>229.529999</td>\n",
       "    </tr>\n",
       "    <tr>\n",
       "      <th>2020-11-20</th>\n",
       "      <td>229.720001</td>\n",
       "      <td>226.770004</td>\n",
       "      <td>228.779999</td>\n",
       "      <td>227.009995</td>\n",
       "      <td>4027300</td>\n",
       "      <td>227.009995</td>\n",
       "    </tr>\n",
       "  </tbody>\n",
       "</table>\n",
       "<p>756 rows × 6 columns</p>\n",
       "</div>"
      ],
      "text/plain": [
       "                  High         Low        Open       Close   Volume  \\\n",
       "Date                                                                  \n",
       "2017-11-21  183.500000  181.509995  181.779999  183.179993  3047000   \n",
       "2017-11-22  183.779999  181.940002  183.779999  182.559998  3017000   \n",
       "2017-11-24  182.979996  182.250000  182.660004  182.360001  1038600   \n",
       "2017-11-27  183.869995  182.410004  182.740005  183.490005  2985200   \n",
       "2017-11-28  187.839996  184.020004  184.100006  187.539993  3721000   \n",
       "...                ...         ...         ...         ...      ...   \n",
       "2020-11-16  233.460007  229.860001  230.580002  233.100006  5766600   \n",
       "2020-11-17  234.970001  230.009995  231.929993  233.160004  5038400   \n",
       "2020-11-18  234.479996  230.000000  233.570007  230.070007  4740600   \n",
       "2020-11-19  229.970001  227.619995  229.669998  229.529999  4621800   \n",
       "2020-11-20  229.720001  226.770004  228.779999  227.009995  4027300   \n",
       "\n",
       "             Adj Close  \n",
       "Date                    \n",
       "2017-11-21  183.179993  \n",
       "2017-11-22  182.559998  \n",
       "2017-11-24  182.360001  \n",
       "2017-11-27  183.490005  \n",
       "2017-11-28  187.539993  \n",
       "...                ...  \n",
       "2020-11-16  233.100006  \n",
       "2020-11-17  233.160004  \n",
       "2020-11-18  230.070007  \n",
       "2020-11-19  229.529999  \n",
       "2020-11-20  227.009995  \n",
       "\n",
       "[756 rows x 6 columns]"
      ]
     },
     "execution_count": 14,
     "metadata": {},
     "output_type": "execute_result"
    }
   ],
   "source": [
    "BRKB"
   ]
  },
  {
   "cell_type": "code",
   "execution_count": 15,
   "metadata": {},
   "outputs": [],
   "source": [
    "BRKB_close = BRKB['Adj Close']\n",
    "S_0 = BRKB_close[-1]\n",
    "Ret = np.log(BRKB_close/BRKB_close.shift(1))\n",
    "Ret.dropna(inplace = True)"
   ]
  },
  {
   "cell_type": "code",
   "execution_count": 16,
   "metadata": {},
   "outputs": [
    {
     "data": {
      "text/plain": [
       "Date\n",
       "2017-11-22   -0.003390\n",
       "2017-11-24   -0.001096\n",
       "2017-11-27    0.006177\n",
       "2017-11-28    0.021832\n",
       "2017-11-29    0.012242\n",
       "                ...   \n",
       "2020-11-16    0.024669\n",
       "2020-11-17    0.000257\n",
       "2020-11-18   -0.013341\n",
       "2020-11-19   -0.002350\n",
       "2020-11-20   -0.011040\n",
       "Name: Adj Close, Length: 755, dtype: float64"
      ]
     },
     "execution_count": 16,
     "metadata": {},
     "output_type": "execute_result"
    }
   ],
   "source": [
    "Ret"
   ]
  },
  {
   "cell_type": "code",
   "execution_count": 17,
   "metadata": {},
   "outputs": [
    {
     "data": {
      "image/png": "[encoded data removed]",
      "text/plain": [
       "<Figure size 432x288 with 1 Axes>"
      ]
     },
     "metadata": {
      "needs_background": "light"
     },
     "output_type": "display_data"
    }
   ],
   "source": [
    "mu, std = norm.fit(Ret)\n",
    "n_observation_Ret = Ret.size\n",
    "Ret.plot.hist(grid=True, density = True, bins = round(math.sqrt(n_observation_Ret)), color='g', alpha = 0.6)\n",
    "plt.xlabel('log-returns')\n",
    "plt.ylabel(\"Density\")\n",
    "xmin, xmax = plt.xlim()\n",
    "x = np.linspace(xmin, xmax, 100)\n",
    "p = norm.pdf(x, mu, std)\n",
    "plt.plot(x, p, 'k', linewidth=2)\n",
    "title = \"Fit results:\" + r'$\\mu$' + \" = %f,\" % mu + r'$\\sigma$' + \" = %f\" % std\n",
    "plt.title(title)\n",
    "plt.show()"
   ]
  },
  {
   "cell_type": "code",
   "execution_count": 18,
   "metadata": {},
   "outputs": [
    {
     "data": {
      "text/plain": [
       "(0.00028413882011328286, 0.016090145822814667)"
      ]
     },
     "execution_count": 18,
     "metadata": {},
     "output_type": "execute_result"
    }
   ],
   "source": [
    "mu, std"
   ]
  },
  {
   "cell_type": "code",
   "execution_count": 19,
   "metadata": {},
   "outputs": [
    {
     "data": {
      "text/plain": [
       "1.6666666666666667"
      ]
     },
     "execution_count": 19,
     "metadata": {},
     "output_type": "execute_result"
    }
   ],
   "source": [
    "lamba = sum(1 for i in range(n_observation_Ret)if Ret[i]>=mu+5*std or Ret[i]<=mu-5*std)/3\n",
    "lamba"
   ]
  },
  {
   "cell_type": "code",
   "execution_count": 20,
   "metadata": {
    "scrolled": false
   },
   "outputs": [
    {
     "data": {
      "text/html": [
       "<div>\n",
       "<style scoped>\n",
       "    .dataframe tbody tr th:only-of-type {\n",
       "        vertical-align: middle;\n",
       "    }\n",
       "\n",
       "    .dataframe tbody tr th {\n",
       "        vertical-align: top;\n",
       "    }\n",
       "\n",
       "    .dataframe thead th {\n",
       "        text-align: right;\n",
       "    }\n",
       "</style>\n",
       "<table border=\"1\" class=\"dataframe\">\n",
       "  <thead>\n",
       "    <tr style=\"text-align: right;\">\n",
       "      <th></th>\n",
       "      <th>Calls</th>\n",
       "      <th>Ticker</th>\n",
       "      <th>bids</th>\n",
       "      <th>asks</th>\n",
       "      <th>Last</th>\n",
       "      <th>implied_vol</th>\n",
       "      <th>Volume</th>\n",
       "      <th>Price</th>\n",
       "      <th>Call Delta</th>\n",
       "    </tr>\n",
       "  </thead>\n",
       "  <tbody>\n",
       "    <tr>\n",
       "      <th>63</th>\n",
       "      <td>165</td>\n",
       "      <td>BRKB 6/18/21 C165</td>\n",
       "      <td>63.6</td>\n",
       "      <td>66.4</td>\n",
       "      <td>67.75</td>\n",
       "      <td>32.2206</td>\n",
       "      <td>0</td>\n",
       "      <td>65</td>\n",
       "      <td>0.927021</td>\n",
       "    </tr>\n",
       "    <tr>\n",
       "      <th>64</th>\n",
       "      <td>170</td>\n",
       "      <td>BRKB 6/18/21 C170</td>\n",
       "      <td>58.95</td>\n",
       "      <td>61.75</td>\n",
       "      <td>56.98</td>\n",
       "      <td>31.5173</td>\n",
       "      <td>0</td>\n",
       "      <td>60.35</td>\n",
       "      <td>0.912427</td>\n",
       "    </tr>\n",
       "    <tr>\n",
       "      <th>65</th>\n",
       "      <td>175</td>\n",
       "      <td>BRKB 6/18/21 C175</td>\n",
       "      <td>54.35</td>\n",
       "      <td>56.95</td>\n",
       "      <td>38.65</td>\n",
       "      <td>29.5983</td>\n",
       "      <td>0</td>\n",
       "      <td>55.65</td>\n",
       "      <td>0.903086</td>\n",
       "    </tr>\n",
       "    <tr>\n",
       "      <th>66</th>\n",
       "      <td>180</td>\n",
       "      <td>BRKB 6/18/21 C180</td>\n",
       "      <td>50.25</td>\n",
       "      <td>52.15</td>\n",
       "      <td>55.67</td>\n",
       "      <td>29.4569</td>\n",
       "      <td>0</td>\n",
       "      <td>51.2</td>\n",
       "      <td>0.880626</td>\n",
       "    </tr>\n",
       "    <tr>\n",
       "      <th>67</th>\n",
       "      <td>185</td>\n",
       "      <td>BRKB 6/18/21 C185</td>\n",
       "      <td>45.7</td>\n",
       "      <td>48.1</td>\n",
       "      <td>46.05</td>\n",
       "      <td>28.386</td>\n",
       "      <td>0</td>\n",
       "      <td>46.9</td>\n",
       "      <td>0.861428</td>\n",
       "    </tr>\n",
       "    <tr>\n",
       "      <th>68</th>\n",
       "      <td>190</td>\n",
       "      <td>BRKB 6/18/21 C190</td>\n",
       "      <td>41.45</td>\n",
       "      <td>43.65</td>\n",
       "      <td>47.28</td>\n",
       "      <td>27.7702</td>\n",
       "      <td>0</td>\n",
       "      <td>42.55</td>\n",
       "      <td>0.836268</td>\n",
       "    </tr>\n",
       "    <tr>\n",
       "      <th>69</th>\n",
       "      <td>195</td>\n",
       "      <td>BRKB 6/18/21 C195</td>\n",
       "      <td>37.95</td>\n",
       "      <td>39.1</td>\n",
       "      <td>39.23</td>\n",
       "      <td>26.9421</td>\n",
       "      <td>0</td>\n",
       "      <td>38.525</td>\n",
       "      <td>0.809366</td>\n",
       "    </tr>\n",
       "    <tr>\n",
       "      <th>70</th>\n",
       "      <td>200</td>\n",
       "      <td>BRKB 6/18/21 C200</td>\n",
       "      <td>33.85</td>\n",
       "      <td>35</td>\n",
       "      <td>34.7</td>\n",
       "      <td>26.2765</td>\n",
       "      <td>1</td>\n",
       "      <td>34.425</td>\n",
       "      <td>0.777956</td>\n",
       "    </tr>\n",
       "    <tr>\n",
       "      <th>71</th>\n",
       "      <td>205</td>\n",
       "      <td>BRKB 6/18/21 C205</td>\n",
       "      <td>29.7</td>\n",
       "      <td>31.25</td>\n",
       "      <td>28.7</td>\n",
       "      <td>25.4359</td>\n",
       "      <td>0</td>\n",
       "      <td>30.475</td>\n",
       "      <td>0.744038</td>\n",
       "    </tr>\n",
       "    <tr>\n",
       "      <th>72</th>\n",
       "      <td>210</td>\n",
       "      <td>BRKB 6/18/21 C210</td>\n",
       "      <td>26.2</td>\n",
       "      <td>27.7</td>\n",
       "      <td>27.25</td>\n",
       "      <td>24.9833</td>\n",
       "      <td>12</td>\n",
       "      <td>26.95</td>\n",
       "      <td>0.704298</td>\n",
       "    </tr>\n",
       "    <tr>\n",
       "      <th>73</th>\n",
       "      <td>215</td>\n",
       "      <td>BRKB 6/18/21 C215</td>\n",
       "      <td>22.65</td>\n",
       "      <td>24.2</td>\n",
       "      <td>24.64</td>\n",
       "      <td>24.1837</td>\n",
       "      <td>0</td>\n",
       "      <td>23.425</td>\n",
       "      <td>0.662691</td>\n",
       "    </tr>\n",
       "    <tr>\n",
       "      <th>74</th>\n",
       "      <td>220</td>\n",
       "      <td>BRKB 6/18/21 C220</td>\n",
       "      <td>19.8</td>\n",
       "      <td>21</td>\n",
       "      <td>20.65</td>\n",
       "      <td>23.8567</td>\n",
       "      <td>10</td>\n",
       "      <td>20.4</td>\n",
       "      <td>0.616283</td>\n",
       "    </tr>\n",
       "    <tr>\n",
       "      <th>75</th>\n",
       "      <td>225</td>\n",
       "      <td>BRKB 6/18/21 C225</td>\n",
       "      <td>16.75</td>\n",
       "      <td>18.15</td>\n",
       "      <td>20.68</td>\n",
       "      <td>23.3564</td>\n",
       "      <td>0</td>\n",
       "      <td>17.45</td>\n",
       "      <td>0.567923</td>\n",
       "    </tr>\n",
       "    <tr>\n",
       "      <th>76</th>\n",
       "      <td>230</td>\n",
       "      <td>BRKB 6/18/21 C230</td>\n",
       "      <td>14.3</td>\n",
       "      <td>14.8</td>\n",
       "      <td>14.65</td>\n",
       "      <td>22.3952</td>\n",
       "      <td>83</td>\n",
       "      <td>14.55</td>\n",
       "      <td>0.516474</td>\n",
       "    </tr>\n",
       "    <tr>\n",
       "      <th>77</th>\n",
       "      <td>235</td>\n",
       "      <td>BRKB 6/18/21 C235</td>\n",
       "      <td>11.95</td>\n",
       "      <td>12.65</td>\n",
       "      <td>12.5</td>\n",
       "      <td>22.287</td>\n",
       "      <td>62</td>\n",
       "      <td>12.3</td>\n",
       "      <td>0.465401</td>\n",
       "    </tr>\n",
       "    <tr>\n",
       "      <th>78</th>\n",
       "      <td>240</td>\n",
       "      <td>BRKB 6/18/21 C240</td>\n",
       "      <td>9.8</td>\n",
       "      <td>10.55</td>\n",
       "      <td>10.6</td>\n",
       "      <td>21.8873</td>\n",
       "      <td>20</td>\n",
       "      <td>10.175</td>\n",
       "      <td>0.413485</td>\n",
       "    </tr>\n",
       "    <tr>\n",
       "      <th>79</th>\n",
       "      <td>245</td>\n",
       "      <td>BRKB 6/18/21 C245</td>\n",
       "      <td>8.1</td>\n",
       "      <td>8.9</td>\n",
       "      <td>8.6</td>\n",
       "      <td>21.7532</td>\n",
       "      <td>8</td>\n",
       "      <td>8.5</td>\n",
       "      <td>0.364589</td>\n",
       "    </tr>\n",
       "    <tr>\n",
       "      <th>80</th>\n",
       "      <td>250</td>\n",
       "      <td>BRKB 6/18/21 C250</td>\n",
       "      <td>6.45</td>\n",
       "      <td>6.95</td>\n",
       "      <td>7</td>\n",
       "      <td>21.1654</td>\n",
       "      <td>28</td>\n",
       "      <td>6.7</td>\n",
       "      <td>0.313311</td>\n",
       "    </tr>\n",
       "    <tr>\n",
       "      <th>81</th>\n",
       "      <td>255</td>\n",
       "      <td>BRKB 6/18/21 C255</td>\n",
       "      <td>4.95</td>\n",
       "      <td>5.6</td>\n",
       "      <td>6.2</td>\n",
       "      <td>20.7325</td>\n",
       "      <td>0</td>\n",
       "      <td>5.275</td>\n",
       "      <td>0.265599</td>\n",
       "    </tr>\n",
       "    <tr>\n",
       "      <th>82</th>\n",
       "      <td>260</td>\n",
       "      <td>BRKB 6/18/21 C260</td>\n",
       "      <td>4.05</td>\n",
       "      <td>4.4</td>\n",
       "      <td>4.53</td>\n",
       "      <td>20.6093</td>\n",
       "      <td>0</td>\n",
       "      <td>4.225</td>\n",
       "      <td>0.225014</td>\n",
       "    </tr>\n",
       "    <tr>\n",
       "      <th>83</th>\n",
       "      <td>265</td>\n",
       "      <td>BRKB 6/18/21 C265</td>\n",
       "      <td>3.15</td>\n",
       "      <td>3.5</td>\n",
       "      <td>3.6</td>\n",
       "      <td>20.4251</td>\n",
       "      <td>0</td>\n",
       "      <td>3.325</td>\n",
       "      <td>0.187586</td>\n",
       "    </tr>\n",
       "    <tr>\n",
       "      <th>84</th>\n",
       "      <td>270</td>\n",
       "      <td>BRKB 6/18/21 C270</td>\n",
       "      <td>2.25</td>\n",
       "      <td>2.86</td>\n",
       "      <td>2.58</td>\n",
       "      <td>20.1695</td>\n",
       "      <td>60</td>\n",
       "      <td>2.555</td>\n",
       "      <td>0.153276</td>\n",
       "    </tr>\n",
       "    <tr>\n",
       "      <th>85</th>\n",
       "      <td>275</td>\n",
       "      <td>BRKB 6/18/21 C275</td>\n",
       "      <td>1.92</td>\n",
       "      <td>2.25</td>\n",
       "      <td>2.05</td>\n",
       "      <td>20.3007</td>\n",
       "      <td>11</td>\n",
       "      <td>2.085</td>\n",
       "      <td>0.128328</td>\n",
       "    </tr>\n",
       "    <tr>\n",
       "      <th>86</th>\n",
       "      <td>280</td>\n",
       "      <td>BRKB 6/18/21 C280</td>\n",
       "      <td>1.55</td>\n",
       "      <td>1.75</td>\n",
       "      <td>1.71</td>\n",
       "      <td>20.2914</td>\n",
       "      <td>9</td>\n",
       "      <td>1.65</td>\n",
       "      <td>0.105236</td>\n",
       "    </tr>\n",
       "    <tr>\n",
       "      <th>87</th>\n",
       "      <td>285</td>\n",
       "      <td>BRKB 6/18/21 C285</td>\n",
       "      <td>1.17</td>\n",
       "      <td>1.41</td>\n",
       "      <td>1.43</td>\n",
       "      <td>20.3084</td>\n",
       "      <td>27</td>\n",
       "      <td>1.29</td>\n",
       "      <td>0.085927</td>\n",
       "    </tr>\n",
       "  </tbody>\n",
       "</table>\n",
       "</div>"
      ],
      "text/plain": [
       "   Calls             Ticker   bids   asks   Last implied_vol Volume   Price  \\\n",
       "63   165  BRKB 6/18/21 C165   63.6   66.4  67.75     32.2206      0      65   \n",
       "64   170  BRKB 6/18/21 C170  58.95  61.75  56.98     31.5173      0   60.35   \n",
       "65   175  BRKB 6/18/21 C175  54.35  56.95  38.65     29.5983      0   55.65   \n",
       "66   180  BRKB 6/18/21 C180  50.25  52.15  55.67     29.4569      0    51.2   \n",
       "67   185  BRKB 6/18/21 C185   45.7   48.1  46.05      28.386      0    46.9   \n",
       "68   190  BRKB 6/18/21 C190  41.45  43.65  47.28     27.7702      0   42.55   \n",
       "69   195  BRKB 6/18/21 C195  37.95   39.1  39.23     26.9421      0  38.525   \n",
       "70   200  BRKB 6/18/21 C200  33.85     35   34.7     26.2765      1  34.425   \n",
       "71   205  BRKB 6/18/21 C205   29.7  31.25   28.7     25.4359      0  30.475   \n",
       "72   210  BRKB 6/18/21 C210   26.2   27.7  27.25     24.9833     12   26.95   \n",
       "73   215  BRKB 6/18/21 C215  22.65   24.2  24.64     24.1837      0  23.425   \n",
       "74   220  BRKB 6/18/21 C220   19.8     21  20.65     23.8567     10    20.4   \n",
       "75   225  BRKB 6/18/21 C225  16.75  18.15  20.68     23.3564      0   17.45   \n",
       "76   230  BRKB 6/18/21 C230   14.3   14.8  14.65     22.3952     83   14.55   \n",
       "77   235  BRKB 6/18/21 C235  11.95  12.65   12.5      22.287     62    12.3   \n",
       "78   240  BRKB 6/18/21 C240    9.8  10.55   10.6     21.8873     20  10.175   \n",
       "79   245  BRKB 6/18/21 C245    8.1    8.9    8.6     21.7532      8     8.5   \n",
       "80   250  BRKB 6/18/21 C250   6.45   6.95      7     21.1654     28     6.7   \n",
       "81   255  BRKB 6/18/21 C255   4.95    5.6    6.2     20.7325      0   5.275   \n",
       "82   260  BRKB 6/18/21 C260   4.05    4.4   4.53     20.6093      0   4.225   \n",
       "83   265  BRKB 6/18/21 C265   3.15    3.5    3.6     20.4251      0   3.325   \n",
       "84   270  BRKB 6/18/21 C270   2.25   2.86   2.58     20.1695     60   2.555   \n",
       "85   275  BRKB 6/18/21 C275   1.92   2.25   2.05     20.3007     11   2.085   \n",
       "86   280  BRKB 6/18/21 C280   1.55   1.75   1.71     20.2914      9    1.65   \n",
       "87   285  BRKB 6/18/21 C285   1.17   1.41   1.43     20.3084     27    1.29   \n",
       "\n",
       "    Call Delta  \n",
       "63    0.927021  \n",
       "64    0.912427  \n",
       "65    0.903086  \n",
       "66    0.880626  \n",
       "67    0.861428  \n",
       "68    0.836268  \n",
       "69    0.809366  \n",
       "70    0.777956  \n",
       "71    0.744038  \n",
       "72    0.704298  \n",
       "73    0.662691  \n",
       "74    0.616283  \n",
       "75    0.567923  \n",
       "76    0.516474  \n",
       "77    0.465401  \n",
       "78    0.413485  \n",
       "79    0.364589  \n",
       "80    0.313311  \n",
       "81    0.265599  \n",
       "82    0.225014  \n",
       "83    0.187586  \n",
       "84    0.153276  \n",
       "85    0.128328  \n",
       "86    0.105236  \n",
       "87    0.085927  "
      ]
     },
     "execution_count": 20,
     "metadata": {},
     "output_type": "execute_result"
    }
   ],
   "source": [
    "option_data = pd.read_excel('Desktop/dataBRKB.xlsx')\n",
    "option_data = option_data.iloc[63:88,:]\n",
    "option_data.columns = ['Calls', 'Ticker', 'bids', 'asks', 'Last', 'implied_vol', 'Volume']\n",
    "r = 0.01\n",
    "T = 209/365\n",
    "option_data['Price'] = (option_data['bids'] + option_data['asks']) / 2\n",
    "get_d = (np.log(S_0/np.array(option_data['Calls'],dtype=float))+(r + (option_data['implied_vol']/100) ** 2/2) * T)/((option_data['implied_vol']/100) * np.sqrt(T))\n",
    "option_data['Call Delta'] = norm.cdf(np.array(get_d, dtype=float))\n",
    "option_data"
   ]
  },
  {
   "cell_type": "code",
   "execution_count": 21,
   "metadata": {},
   "outputs": [],
   "source": [
    "sigma_0 = 0.223952\n",
    "sigma_plus = 0.207325\n",
    "sigma_minus = 0.254359\n",
    "K_plus = 255\n",
    "K_minus = 205\n",
    "RR = sigma_plus - sigma_minus\n",
    "BF = (sigma_plus + sigma_minus)/2 - sigma_0"
   ]
  },
  {
   "cell_type": "markdown",
   "metadata": {},
   "source": [
    "given lambda optimize sigma, v, delta"
   ]
  },
  {
   "cell_type": "code",
   "execution_count": 22,
   "metadata": {},
   "outputs": [],
   "source": [
    "S0 = 227.009995\n",
    "K_list = np.array([227.009995 + i for i in range(-60, 61, 1)])\n",
    "r = 0.01\n",
    "T = 209/365\n",
    "lam = 1.6666666666666667"
   ]
  },
  {
   "cell_type": "code",
   "execution_count": 23,
   "metadata": {
    "scrolled": true
   },
   "outputs": [],
   "source": [
    "args = (S0, r, lam, T, K_list, RR, BF, sigma_0)\n",
    "x0 = np.array([0.1, -0.03, 0.04])\n",
    "bnds = ((0, 1), (None, None), (0, None))\n",
    "res = minimize(obj, x0, args=args, method='SLSQP', bounds=bnds, tol=0.0000001)"
   ]
  },
  {
   "cell_type": "code",
   "execution_count": 24,
   "metadata": {
    "scrolled": true
   },
   "outputs": [
    {
     "data": {
      "text/plain": [
       "     fun: 1.6549774414401096e-05\n",
       "     jac: array([ 4.08173298e-05, -8.50587121e-05, -2.32618738e-04])\n",
       " message: 'Optimization terminated successfully.'\n",
       "    nfev: 37\n",
       "     nit: 7\n",
       "    njev: 7\n",
       "  status: 0\n",
       " success: True\n",
       "       x: array([ 0.11916426, -0.11249276,  0.11583683])"
      ]
     },
     "execution_count": 24,
     "metadata": {},
     "output_type": "execute_result"
    }
   ],
   "source": [
    "res"
   ]
  },
  {
   "cell_type": "code",
   "execution_count": 25,
   "metadata": {},
   "outputs": [],
   "source": [
    "spread = (option_data['asks'] - option_data['bids']).values"
   ]
  },
  {
   "cell_type": "code",
   "execution_count": 26,
   "metadata": {},
   "outputs": [],
   "source": [
    "implied_vol = option_data['implied_vol'].values*0.01"
   ]
  },
  {
   "cell_type": "code",
   "execution_count": 27,
   "metadata": {},
   "outputs": [
    {
     "data": {
      "text/plain": [
       "array([0.322205925470394, 0.315172864592547, 0.295983260468313,\n",
       "       0.29456929414918104, 0.28385952743335, 0.277702188077411,\n",
       "       0.269420801690042, 0.26276526736628003, 0.254359095349089,\n",
       "       0.24983323379033098, 0.241837325920689, 0.238566784782187,\n",
       "       0.233564289395348, 0.22395179822024902, 0.22287047898573,\n",
       "       0.218873246430956, 0.21753245481342098, 0.211653563144179,\n",
       "       0.207325144289639, 0.20609309346663002, 0.20425061661487,\n",
       "       0.201694827304974, 0.20300745434908, 0.202914053761969,\n",
       "       0.203084014482271], dtype=object)"
      ]
     },
     "execution_count": 27,
     "metadata": {},
     "output_type": "execute_result"
    }
   ],
   "source": [
    "implied_vol"
   ]
  },
  {
   "cell_type": "code",
   "execution_count": 28,
   "metadata": {},
   "outputs": [],
   "source": [
    "K_list2 = np.array([165 + i*5 for i in range(0, 25)])"
   ]
  },
  {
   "cell_type": "code",
   "execution_count": 29,
   "metadata": {},
   "outputs": [],
   "source": [
    "import matplotlib.pyplot as plt\n",
    "\n",
    "plt.style.use('seaborn')"
   ]
  },
  {
   "cell_type": "code",
   "execution_count": 30,
   "metadata": {},
   "outputs": [
    {
     "data": {
      "text/plain": [
       "Text(0, 0.5, 'implied_vol')"
      ]
     },
     "execution_count": 30,
     "metadata": {},
     "output_type": "execute_result"
    },
    {
     "data": {
      "image/png": "[encoded data removed]",
      "text/plain": [
       "<Figure size 720x576 with 1 Axes>"
      ]
     },
     "metadata": {},
     "output_type": "display_data"
    }
   ],
   "source": [
    "sigma, v, delta = res.x[0], res.x[1], res.x[2]\n",
    "c1 = get_call_price(S0, r, T, lam, sigma, v, delta, K_list)\n",
    "implied_vol1 = fsolve(get_implied_vol, np.ones(len(K_list)), args=(S0, K_list, r, T, c1))\n",
    "\n",
    "\n",
    "\n",
    "plt.figure(figsize=(10,8))\n",
    "plt.plot(K_list2,implied_vol)\n",
    "plt.plot(K_list,implied_vol1)\n",
    "plt.legend(['market', '3point'])\n",
    "plt.xlabel(\"K\")\n",
    "plt.ylabel(\"implied_vol\")"
   ]
  }
 ],
 "metadata": {
  "kernelspec": {
   "display_name": "Python 3",
   "language": "python",
   "name": "python3"
  },
  "language_info": {
   "codemirror_mode": {
    "name": "ipython",
    "version": 3
   },
   "file_extension": ".py",
   "mimetype": "text/x-python",
   "name": "python",
   "nbconvert_exporter": "python",
   "pygments_lexer": "ipython3",
   "version": "3.7.5"
  }
 },
 "nbformat": 4,
 "nbformat_minor": 2
}
